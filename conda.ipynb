{
 "cells": [
  {
   "cell_type": "code",
   "execution_count": null,
   "metadata": {
    "vscode": {
     "languageId": "plaintext"
    }
   },
   "outputs": [],
   "source": [
    "Step 1: Install Conda (If Not Already Installed)\n",
    "Step 2: Create a New Conda Environment\n",
    "conda create -n myproject_env python=3.10\n",
    "conda activate myproject_env\n",
    "Step 3: Install Required Packages\n",
    "Option 1: Using Conda-Forge Channel\n",
    "The conda-forge channel often has the latest packages.\n",
    "1. Add the conda-forge channel (if not already added):\n",
    "    conda config --add channels conda-forge\n",
    "    conda config --set channel_priority strict\n",
    "2. Install the packages:\n",
    "    conda install sqlalchemy alembic pymysql\n",
    "Option 2: Using pip Within Conda\n",
    "If a package isn't available via Conda, you can use pip:\n",
    "    conda install sqlalchemy alembic\n",
    "    pip install pymysql\n",
    "\n",
    "Step 4: Initialize Alembic in Your Project\n",
    "    cd /path/to/your/project\n",
    "    alembic init alembic\n"
   ]
  }
 ],
 "metadata": {
  "language_info": {
   "name": "python"
  }
 },
 "nbformat": 4,
 "nbformat_minor": 2
}
